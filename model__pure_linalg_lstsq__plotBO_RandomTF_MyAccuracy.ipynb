{
 "cells": [
  {
   "cell_type": "code",
   "execution_count": 1,
   "metadata": {},
   "outputs": [],
   "source": [
    "#10\n",
    "import numpy as np\n",
    "import scipy\n",
    "import pandas as pd\n",
    "from sklearn.model_selection import train_test_split\n",
    "import matplotlib.pyplot as plt\n",
    "import matplotlib.ticker as ticker\n",
    "import random\n",
    "\n",
    "def RandomTF(countAll=1000,howOfften=100):\n",
    "    ''' рандомный лист True/False с вашей длиной '''\n",
    "    return [random.randrange(howOfften)==0 for x in list(range(countAll)) ]\n",
    "\n",
    "def customWhere(series,WhereTFArr):\n",
    "    '''они должны иметь одинаковые длины'''\n",
    "    return series[WhereTFArr]\n",
    "\n",
    "def plotBO(x,y,length=1000,size=8,alpha=0.4,xcut=None,ycut=None):#,height=None,width=None):\n",
    "    '''\n",
    "    Юзай для размера plt.rcParams['figure.figsize']=(250,10)\n",
    "    plt.grid(axis='y')    для сетки или 'both'\n",
    "    '''\n",
    "    fig, ax = plt.subplots()#figsize=(height, width))\n",
    "\n",
    "    # обезаем график\n",
    "    print('было y',ax.get_ylim())\n",
    "    if(ycut):\n",
    "        ax.set_ylim(min(y),ycut)\n",
    "    print('стало get_ylim',ax.get_ylim())\n",
    "    if(xcut):\n",
    "        ax.set_xlim(min(x),xcut)  \n",
    "    \n",
    "    l=length\n",
    "    plt.scatter(x[:l],y[:l], s=size,alpha=alpha)#,figsize=(height,width))\n",
    "    plt.show()\n",
    "    \n",
    "\n",
    "def my_accuracyArr(valid,pred):\n",
    "    '''выдаёт средний процент отклонения pred от valid'''\n",
    "    def avgBadArr(my_accRes):\n",
    "        def avgBad(x):\n",
    "            if(x>1):\n",
    "                return (x-1)*100\n",
    "            else:\n",
    "                return (1-x)*100\n",
    "\n",
    "        bads=[avgBad(x) for x in my_accRes]\n",
    "        print('среднее отклонение по массиву= '+ str(np.mean(bads)))\n",
    "        return np.mean(bads), bads\n",
    "    \n",
    "    if(len(valid)!=len(pred)):\n",
    "        Exception('разные длины!!!')\n",
    "    \n",
    "    valPred= np.array([valid.tolist() ,pred])\n",
    "    valPred=valPred.T\n",
    "    my_accRes=[x[0]/x[1] for x in valPred]\n",
    "    my_accRes=np.round(my_accRes,2)\n",
    "    \n",
    "    mean,bads=avgBadArr(my_accRes)\n",
    "    return mean#,bads,my_accRes\n",
    "\n"
   ]
  },
  {
   "cell_type": "code",
   "execution_count": 2,
   "metadata": {
    "scrolled": true
   },
   "outputs": [
    {
     "name": "stdout",
     "output_type": "stream",
     "text": [
      " reading qwe000000000000.csv\n",
      "1000\n",
      "csvs return\n",
      "<class 'pandas.core.frame.DataFrame'>\n",
      "RangeIndex: 1000 entries, 0 to 999\n",
      "Data columns (total 11 columns):\n",
      "vendor_id            1000 non-null object\n",
      "pickup_datetime      1000 non-null datetime64[ns]\n",
      "pickup_longitude     1000 non-null float64\n",
      "pickup_latitude      1000 non-null float64\n",
      "dropoff_longitude    1000 non-null float64\n",
      "dropoff_latitude     1000 non-null float64\n",
      "rate_code            363 non-null float64\n",
      "passenger_count      1000 non-null int64\n",
      "trip_distance        1000 non-null float64\n",
      "fare_amount          1000 non-null float64\n",
      "tolls_amount         1000 non-null float64\n",
      "dtypes: datetime64[ns](1), float64(8), int64(1), object(1)\n",
      "memory usage: 86.0+ KB\n"
     ]
    },
    {
     "ename": "NameError",
     "evalue": "name 'r' is not defined",
     "output_type": "error",
     "traceback": [
      "\u001b[1;31m---------------------------------------------------------------------------\u001b[0m",
      "\u001b[1;31mNameError\u001b[0m                                 Traceback (most recent call last)",
      "\u001b[1;32m<timed exec>\u001b[0m in \u001b[0;36m<module>\u001b[1;34m()\u001b[0m\n",
      "\u001b[1;31mNameError\u001b[0m: name 'r' is not defined"
     ]
    },
    {
     "ename": "NameError",
     "evalue": "name 'r' is not defined",
     "output_type": "error",
     "traceback": [
      "\u001b[1;31m---------------------------------------------------------------------------\u001b[0m",
      "\u001b[1;31mNameError\u001b[0m                                 Traceback (most recent call last)",
      "\u001b[1;32m<timed exec>\u001b[0m in \u001b[0;36m<module>\u001b[1;34m()\u001b[0m\n",
      "\u001b[1;31mNameError\u001b[0m: name 'r' is not defined"
     ]
    },
    {
     "name": "stdout",
     "output_type": "stream",
     "text": [
      "<class 'pandas.core.frame.DataFrame'>\n",
      "RangeIndex: 100 entries, 0 to 99\n",
      "Data columns (total 11 columns):\n",
      "vendor_id            100 non-null object\n",
      "pickup_datetime      100 non-null datetime64[ns]\n",
      "pickup_longitude     100 non-null float64\n",
      "pickup_latitude      100 non-null float64\n",
      "dropoff_longitude    100 non-null float64\n",
      "dropoff_latitude     100 non-null float64\n",
      "rate_code            22 non-null float64\n",
      "passenger_count      100 non-null int64\n",
      "trip_distance        100 non-null float64\n",
      "fare_amount          100 non-null float64\n",
      "tolls_amount         100 non-null float64\n",
      "dtypes: datetime64[ns](1), float64(8), int64(1), object(1)\n",
      "memory usage: 8.7+ KB\n"
     ]
    },
    {
     "data": {
      "image/png": "[encoded data removed]",
      "text/plain": [
       "<Figure size 432x288 with 1 Axes>"
      ]
     },
     "metadata": {},
     "output_type": "display_data"
    }
   ],
   "source": [
    "import NumpyAlg_preprocessing as fe"
   ]
  },
  {
   "cell_type": "code",
   "execution_count": null,
   "metadata": {},
   "outputs": [],
   "source": []
  },
  {
   "cell_type": "code",
   "execution_count": null,
   "metadata": {},
   "outputs": [],
   "source": []
  },
  {
   "cell_type": "code",
   "execution_count": 3,
   "metadata": {},
   "outputs": [
    {
     "name": "stdout",
     "output_type": "stream",
     "text": [
      " reading qqqmyAll\n",
      "200361\n"
     ]
    }
   ],
   "source": [
    "data=fe.create_features(fe.csvs('qqqmyAll',nrows=1000\n",
    "                                *1000\n",
    "                                *0.85\n",
    "                                *50\n",
    "                               ))"
   ]
  },
  {
   "cell_type": "code",
   "execution_count": null,
   "metadata": {},
   "outputs": [],
   "source": [
    "print(data.columns)\n",
    "qw=data.groupby([\"dropoff_longitude\",\"fare\"]).size().unstack()\n",
    "plt.rcParams['figure.figsize']=(100,50)\n",
    "\n",
    "qw[:10].plot(legend=None,xlim=[-74.02,-73.94])"
   ]
  },
  {
   "cell_type": "code",
   "execution_count": null,
   "metadata": {
    "scrolled": true
   },
   "outputs": [],
   "source": [
    "#%matplotlib inline\n",
    "# %config InlineBackend.figure_format = 'svg'\n",
    "#plt.rcParams['figure.figsize']=(250,10)\n",
    "\n",
    "\n",
    "X=data[['trip_distance','rate_code',]]#'p_hour']] # не разницы что с или без hour !! ну чуть чуть\n",
    "# X=X.drop('fare',axis=1)\n",
    "# X=X.drop('vendor_id',axis=1)\n",
    "\n",
    "# сделаем категориальные из p_hour\n",
    "g=pd.Categorical(data.iloc[:,9])\n",
    "d=pd.get_dummies(g)\n",
    "X=data2 =pd.DataFrame(np.c_[X,d])# ,columns=data.columns+d.columns)\n",
    "\n",
    "# сделаем категориальные из p_hour\n",
    "g=pd.Categorical(data.iloc[:,10])\n",
    "d1=pd.get_dummies(g)\n",
    "X=data2 =pd.DataFrame(np.c_[X,d1])# ,columns=data.columns+d.columns)\n",
    "\n",
    "# pickup_longitude     \n",
    "g=pd.Categorical(data.iloc[:,1])\n",
    "d=pd.get_dummies(g)\n",
    "# X=data2 =pd.DataFrame(np.c_[X,d])# ,columns=data.columns+d.columns)\n",
    "\n",
    "# # pickup_Lat   \n",
    "g=pd.Categorical(data.iloc[:,2])\n",
    "d=pd.get_dummies(g)\n",
    "# X=data2 =pd.DataFrame(np.c_[X,d])# ,columns=data.columns+d.columns)\n",
    "\n",
    "\n",
    "a=X\n",
    "# a['p_hour']=pd.Categorical(data[['p_hour']])\n",
    "#np.array([X.trip_distance,X.rate_tcode])\n",
    "#a=a.T\n",
    "\n",
    "y=data['fare']\n",
    "X"
   ]
  },
  {
   "cell_type": "code",
   "execution_count": null,
   "metadata": {
    "scrolled": true
   },
   "outputs": [],
   "source": [
    "X_train, X_validation, y_train, y_validation = train_test_split(a, y, train_size=0.75, random_state=42)\n",
    "r,q,q1,q2=np.linalg.lstsq(X_train,y_train)\n"
   ]
  },
  {
   "cell_type": "code",
   "execution_count": null,
   "metadata": {
    "scrolled": true
   },
   "outputs": [],
   "source": [
    "pred=np.dot(X_validation, r)\n",
    "\n",
    "from sklearn.metrics import mean_squared_error\n",
    "from math import sqrt\n",
    "rms = sqrt(mean_squared_error(y_validation.tolist(), pred))\n",
    "print('impo')\n",
    "# print(r.ravel())\n",
    "rms\n",
    "# print(preк\n",
    "\n",
    "# print(y_validation.tolist())\n"
   ]
  },
  {
   "cell_type": "code",
   "execution_count": null,
   "metadata": {},
   "outputs": [],
   "source": [
    "\n",
    "my_accRes= my_accuracyArr(y_validation,pred)\n",
    "#my_accRes[0]\n",
    "#: 2 17.4 3.2\n",
    "#: 1,2 - 17.5\n",
    "#без 17.7\n",
    "# 9 17.38 3.1\n",
    "# 9,10 17.0 3.15"
   ]
  },
  {
   "cell_type": "code",
   "execution_count": null,
   "metadata": {},
   "outputs": [],
   "source": [
    "\n",
    "#plt.rcParams['figure.figsize']=(250,10)\n",
    "#графики в svg выглядят более четкими\n",
    "\n",
    "plt.plot(y_validation.tolist()[:100],linewidth=0.1)\n",
    "plt.plot(pred[:100],'red',linewidth=0.2)\n",
    "plt.show()"
   ]
  },
  {
   "cell_type": "code",
   "execution_count": null,
   "metadata": {},
   "outputs": [],
   "source": []
  },
  {
   "cell_type": "code",
   "execution_count": null,
   "metadata": {},
   "outputs": [],
   "source": [
    "o=[[2,2],[4,8]]\n",
    "p=[1,4]\n",
    "np.linalg.solve(o,p)"
   ]
  },
  {
   "cell_type": "code",
   "execution_count": null,
   "metadata": {},
   "outputs": [],
   "source": [
    "randTFArr=RandomTF(len(data),1)\n",
    "xx=data.trip_distance[randTFArr]\n",
    "xx=data.p_hour[randTFArr]\n",
    "yy=data.fare[randTFArr]\n",
    "\n",
    "plt.rcParams['figure.figsize']=(1.5,5)\n",
    "# plotBO(xx,yy,1000000,1,0.1,None,66)\n",
    "# plt.plot([1,2],[2,3])\n"
   ]
  },
  {
   "cell_type": "code",
   "execution_count": null,
   "metadata": {},
   "outputs": [],
   "source": [
    "\n",
    "randTFArr=RandomTF(len(data),20)\n",
    "xx=data.trip_distance[randTFArr]\n",
    "xx=data.rate_code[randTFArr]\n",
    "yy=data.fare[randTFArr]\n",
    "# plotBO(xx,yy,1000000,1)\n",
    "# len(xx)"
   ]
  }
 ],
 "metadata": {
  "kernelspec": {
   "display_name": "Python 3",
   "language": "python",
   "name": "python3"
  },
  "language_info": {
   "codemirror_mode": {
    "name": "ipython",
    "version": 3
   },
   "file_extension": ".py",
   "mimetype": "text/x-python",
   "name": "python",
   "nbconvert_exporter": "python",
   "pygments_lexer": "ipython3",
   "version": "3.6.5"
  }
 },
 "nbformat": 4,
 "nbformat_minor": 2
}
