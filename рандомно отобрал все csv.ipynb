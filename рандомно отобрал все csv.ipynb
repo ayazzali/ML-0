{
 "cells": [
  {
   "cell_type": "code",
   "execution_count": 6,
   "metadata": {},
   "outputs": [
    {
     "ename": "NameError",
     "evalue": "name 'data' is not defined",
     "output_type": "error",
     "traceback": [
      "\u001b[1;31m---------------------------------------------------------------------------\u001b[0m",
      "\u001b[1;31mNameError\u001b[0m                                 Traceback (most recent call last)",
      "\u001b[1;32m<ipython-input-6-a22181574dae>\u001b[0m in \u001b[0;36m<module>\u001b[1;34m()\u001b[0m\n\u001b[0;32m     35\u001b[0m     \u001b[0mmy_accRes\u001b[0m\u001b[1;33m=\u001b[0m\u001b[0mnp\u001b[0m\u001b[1;33m.\u001b[0m\u001b[0mround\u001b[0m\u001b[1;33m(\u001b[0m\u001b[0mmy_accRes\u001b[0m\u001b[1;33m,\u001b[0m\u001b[1;36m2\u001b[0m\u001b[1;33m)\u001b[0m\u001b[1;33m\u001b[0m\u001b[0m\n\u001b[0;32m     36\u001b[0m     \u001b[1;32mreturn\u001b[0m \u001b[0mavgBadArr\u001b[0m\u001b[1;33m(\u001b[0m\u001b[0mmy_accRes\u001b[0m\u001b[1;33m)\u001b[0m\u001b[1;33m,\u001b[0m\u001b[0mmy_accRes\u001b[0m\u001b[1;33m\u001b[0m\u001b[0m\n\u001b[1;32m---> 37\u001b[1;33m \u001b[0mlen\u001b[0m\u001b[1;33m(\u001b[0m\u001b[0mdata\u001b[0m\u001b[1;33m)\u001b[0m\u001b[1;33m\u001b[0m\u001b[0m\n\u001b[0m",
      "\u001b[1;31mNameError\u001b[0m: name 'data' is not defined"
     ]
    }
   ],
   "source": [
    "import numpy as np\n",
    "import scipy\n",
    "import pandas as pd\n",
    "from sklearn.model_selection import train_test_split\n",
    "import matplotlib.pyplot as plt\n",
    "from sklearn.metrics import mean_squared_error\n",
    "from math import sqrt\n",
    "import glob\n",
    "\n",
    "import random\n",
    "def RandomTF(countAll=1000,howOfften=100):\n",
    "    return [random.randrange(howOfften)==1 for x in list(range(countAll)) ]\n",
    "\n",
    "def plotBO(x,y,length=1000,size=8):\n",
    "    l=length\n",
    "    plt.scatter(x[:l],y[:l], s=size,alpha=0.01)\n",
    "\n",
    "def avgBadArr(my_accRes):\n",
    "    def avgBad(x):\n",
    "        if(x>1):\n",
    "            return (x-1)*100\n",
    "        else:\n",
    "            return (1-x)*100\n",
    "    bads=[avgBad(x) for x in my_accRes]\n",
    "    print('среднее отклонение по массиву= '+ str(np.mean(bads)))\n",
    "    return np.mean(bads), bads\n",
    "\n",
    "def my_accuracyArr(valid,pred):\n",
    "    '''\n",
    "    выдаёт средний процент отклонения pred от valid\n",
    "    '''\n",
    "    valPred= np.array([y_validation.tolist() ,pred])\n",
    "    valPred=valPred.T\n",
    "    my_accRes=[x[0]/x[1] for x in valPred]\n",
    "    my_accRes=np.round(my_accRes,2)\n",
    "    return avgBadArr(my_accRes),my_accRes\n",
    "len(data)\n"
   ]
  },
  {
   "cell_type": "code",
   "execution_count": 4,
   "metadata": {},
   "outputs": [],
   "source": [
    "import NumpyAlg_preprocessing as fe\n",
    "#data=fe.data2\n",
    "def create_features2(sourcedata):\n",
    "    data=sourcedata.copy()\n",
    "    \n",
    "    # create fare\n",
    "    data['fare']=data['tolls_amount']+data['fare_amount']\n",
    "#     data=data.drop('tolls_amount',axis=1)\n",
    "#     data=data.drop('fare_amount',axis=1)\n",
    "    \n",
    "    # filter\n",
    "    data=data[data['fare']>0]\n",
    "    len(data[data['fare']>0])\n",
    "    data=data[data.trip_distance>0]\n",
    "    data=data[(data.pickup_longitude>-80)&(data.pickup_longitude<-20)] # -77\n",
    "    data=data[(data.dropoff_longitude>-80)&(data.dropoff_longitude<-20)] # -77\n",
    "    data=data[(data.dropoff_latitude>10)&(data.dropoff_latitude<60)] # 40\n",
    "    data=data[(data.pickup_latitude>10)&(data.pickup_latitude<60)] # 40\n",
    "    data=data[ data.rate_code.isnull()==False]\n",
    "    #data=data[data['rate_code']!=np.nan]\n",
    "    \n",
    "    #\n",
    "#     data['p_hour']=data.pickup_datetime.map(lambda x: x.hour)\n",
    "#     data['p_dayofweek']=data.pickup_datetime.map(lambda x: x.dayofweek)\n",
    "#     data.drop('pickup_datetime',axis=1,inplace=True)\n",
    "    \n",
    "    # round\n",
    "#     data.pickup_latitude=data.pickup_latitude.apply(lambda x: np.round(x,2))#.apply(np.str)\n",
    "#     data.pickup_longitude=data.pickup_longitude.apply(lambda x: np.round(x,2))\n",
    "#     data.dropoff_latitude=data.dropoff_latitude.apply(lambda x: np.round(x,2))\n",
    "#     data.dropoff_longitude=data.dropoff_longitude.apply(lambda x: np.round(x,2))\n",
    "    \n",
    "    return data"
   ]
  },
  {
   "cell_type": "code",
   "execution_count": 9,
   "metadata": {},
   "outputs": [
    {
     "name": "stdout",
     "output_type": "stream",
     "text": [
      " reading qwe000000000000.csv\n",
      "9906\n",
      " reading qwe000000000002.csv\n",
      "19993\n",
      " reading qwe000000000003.csv\n",
      "29993\n",
      " reading qwe000000000005.csv\n",
      "40063\n",
      " reading qwe000000000006.csv\n",
      "50099\n",
      " reading qwe000000000007.csv\n"
     ]
    },
    {
     "name": "stderr",
     "output_type": "stream",
     "text": [
      "C:\\Users\\ayaz\\Anaconda3\\lib\\site-packages\\IPython\\core\\interactiveshell.py:2785: DtypeWarning: Columns (18) have mixed types. Specify dtype option on import or set low_memory=False.\n",
      "  interactivity=interactivity, compiler=compiler, result=result)\n"
     ]
    },
    {
     "name": "stdout",
     "output_type": "stream",
     "text": [
      "60004\n",
      " reading qwe000000000008.csv\n",
      "70044\n",
      " reading qwe000000000009.csv\n",
      "80001\n",
      " reading qwe000000000010.csv\n",
      "90052\n",
      " reading qwe000000000011.csv\n",
      "100103\n",
      " reading qwe000000000012.csv\n",
      "110118\n",
      " reading qwe000000000013.csv\n",
      "120339\n",
      " reading qwe000000000014.csv\n",
      "130304\n",
      " reading qwe000000000015.csv\n",
      "140216\n",
      " reading qwe000000000016.csv\n",
      "150389\n",
      " reading qwe000000000017.csv\n",
      "160463\n",
      " reading qwe000000000018.csv\n",
      "170380\n",
      " reading qwe000000000020.csv\n",
      "180511\n",
      " reading qwe000000000023.csv\n",
      "190464\n",
      " reading qwe000000000024.csv\n",
      "200361\n"
     ]
    }
   ],
   "source": [
    "r=pd.DataFrame()\n",
    "\n",
    "for path in glob.glob('qwe*.csv'):\n",
    "    print(' reading '+path)\n",
    "\n",
    "#         ir=fe.readCsv(path,nrows)\n",
    "    ir=pd.read_csv(path)#,nrows=nrows,date_parser=lambda x:datetime.datetime.strptime(x,'%Y-%m-%d %H:%M:%S %Z'))\n",
    "    rand=RandomTF(len(ir),100)\n",
    "    r=r.append(ir[rand] ,ignore_index=True)\n",
    "    print(len(r))\n",
    "\n",
    "r.to_csv('qqqmyAll')        \n",
    "        \n",
    "#         if(len(r)>=nrows):\n",
    "#             print('csvs return')\n",
    "#             break\n",
    "    \n",
    "        "
   ]
  },
  {
   "cell_type": "code",
   "execution_count": 11,
   "metadata": {},
   "outputs": [],
   "source": [
    "r.to_csv('qqqMyAllTab',sep='\\t')"
   ]
  }
 ],
 "metadata": {
  "kernelspec": {
   "display_name": "Python 3",
   "language": "python",
   "name": "python3"
  },
  "language_info": {
   "codemirror_mode": {
    "name": "ipython",
    "version": 3
   },
   "file_extension": ".py",
   "mimetype": "text/x-python",
   "name": "python",
   "nbconvert_exporter": "python",
   "pygments_lexer": "ipython3",
   "version": "3.6.5"
  }
 },
 "nbformat": 4,
 "nbformat_minor": 2
}
