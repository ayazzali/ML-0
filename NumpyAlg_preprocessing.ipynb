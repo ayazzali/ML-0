{
 "cells": [
  {
   "cell_type": "code",
   "execution_count": 1,
   "metadata": {},
   "outputs": [],
   "source": [
    "def l(*t):\n",
    "    print(t)\n",
    "def ac(model,y_valid,X_valid ):\n",
    "    print(accuracy_score(y_valid.tolist(),model.predict(X_valid)))\n",
    "def dist(x1,y1,x2,y2):\n",
    "    return np.linalg.norm(x1-x2) + np.linalg.norm(y2-y1)\n",
    "\n",
    "'17 раз до 9 27сек'\n",
    "'100 3.3 3мин'\n",
    "import pandas as pd\n",
    "import numpy as np\n",
    "import datetime \n",
    "import matplotlib.pyplot as plt\n"
   ]
  },
  {
   "cell_type": "code",
   "execution_count": 2,
   "metadata": {},
   "outputs": [],
   "source": [
    "def readCsv(path,nrows=10000):\n",
    "    data=pd.read_csv(path,\n",
    "                 #dtype=types,\n",
    "                 nrows=nrows,\n",
    "                 parse_dates=['pickup_datetime',\n",
    "                              #'dropoff_datetime',\n",
    "                              \n",
    "                             ],\n",
    "                 date_parser=lambda x:datetime.datetime.strptime(x,'%Y-%m-%d %H:%M:%S %Z'),\n",
    "                 usecols=\n",
    "                         ['vendor_id',\n",
    "                         'pickup_datetime',\n",
    "                         #'dropoff_datetime',\n",
    "                         'pickup_longitude',\n",
    "                         'pickup_latitude',\n",
    "                         'dropoff_longitude',\n",
    "                         'dropoff_latitude',\n",
    "                         'rate_code',\n",
    "                         'passenger_count',\n",
    "                         'trip_distance',\n",
    "\n",
    "                         'fare_amount',\n",
    "                         'tolls_amount',\n",
    "                        ])\n",
    "    return data"
   ]
  },
  {
   "cell_type": "code",
   "execution_count": 3,
   "metadata": {},
   "outputs": [
    {
     "name": "stdout",
     "output_type": "stream",
     "text": [
      " reading qwe000000000000.csv\n",
      " reading qwe000000000002.csv\n"
     ]
    },
    {
     "data": {
      "text/html": [
       "<div>\n",
       "<style scoped>\n",
       "    .dataframe tbody tr th:only-of-type {\n",
       "        vertical-align: middle;\n",
       "    }\n",
       "\n",
       "    .dataframe tbody tr th {\n",
       "        vertical-align: top;\n",
       "    }\n",
       "\n",
       "    .dataframe thead th {\n",
       "        text-align: right;\n",
       "    }\n",
       "</style>\n",
       "<table border=\"1\" class=\"dataframe\">\n",
       "  <thead>\n",
       "    <tr style=\"text-align: right;\">\n",
       "      <th></th>\n",
       "      <th>vendor_id</th>\n",
       "      <th>pickup_datetime</th>\n",
       "      <th>pickup_longitude</th>\n",
       "      <th>pickup_latitude</th>\n",
       "      <th>dropoff_longitude</th>\n",
       "      <th>dropoff_latitude</th>\n",
       "      <th>rate_code</th>\n",
       "      <th>passenger_count</th>\n",
       "      <th>trip_distance</th>\n",
       "      <th>fare_amount</th>\n",
       "      <th>tolls_amount</th>\n",
       "    </tr>\n",
       "  </thead>\n",
       "  <tbody>\n",
       "    <tr>\n",
       "      <th>0</th>\n",
       "      <td>CMT</td>\n",
       "      <td>2010-03-04 00:35:16</td>\n",
       "      <td>-74.035201</td>\n",
       "      <td>40.721548</td>\n",
       "      <td>-74.035201</td>\n",
       "      <td>40.721548</td>\n",
       "      <td>1.0</td>\n",
       "      <td>1</td>\n",
       "      <td>0.0</td>\n",
       "      <td>0.0</td>\n",
       "      <td>0.0</td>\n",
       "    </tr>\n",
       "  </tbody>\n",
       "</table>\n",
       "</div>"
      ],
      "text/plain": [
       "  vendor_id     pickup_datetime  pickup_longitude  pickup_latitude  \\\n",
       "0       CMT 2010-03-04 00:35:16        -74.035201        40.721548   \n",
       "\n",
       "   dropoff_longitude  dropoff_latitude  rate_code  passenger_count  \\\n",
       "0         -74.035201         40.721548        1.0                1   \n",
       "\n",
       "   trip_distance  fare_amount  tolls_amount  \n",
       "0            0.0          0.0           0.0  "
      ]
     },
     "execution_count": 3,
     "metadata": {},
     "output_type": "execute_result"
    }
   ],
   "source": [
    "import glob\n",
    "def csvs(pathmatch,nrows=10000):\n",
    "    r=pd.DataFrame()\n",
    "    for path in glob.glob(pathmatch):\n",
    "        print(' reading '+path)\n",
    "        ir=readCsv(path,nrows)\n",
    "        #ir=pd.read_csv(path,nrows=nrows,date_parser=lambda x:datetime.datetime.strptime(x,'%Y-%m-%d %H:%M:%S %Z'))\n",
    "        r=r.append(ir ,ignore_index=True)\n",
    "        print(len(r))\n",
    "        if(len(r)>=nrows):\n",
    "            print('csvs return')\n",
    "            break\n",
    "    return r\n",
    "        \n",
    "r=csvs('qwe0*',1000)\n",
    "r[:1]"
   ]
  },
  {
   "cell_type": "code",
   "execution_count": null,
   "metadata": {},
   "outputs": [],
   "source": [
    "def create_features(sourcedata):\n",
    "    data=sourcedata.copy()\n",
    "    \n",
    "    # create fare\n",
    "    data['fare']=data['tolls_amount']+data['fare_amount']\n",
    "    data=data.drop('tolls_amount',axis=1)\n",
    "    data=data.drop('fare_amount',axis=1)\n",
    "    \n",
    "    # filter\n",
    "    data=data[data['fare']>0]\n",
    "    len(data[data['fare']>0])\n",
    "    data=data[data.trip_distance>0]\n",
    "    data=data[(data.pickup_longitude>-80)&(data.pickup_longitude<-20)] # -77\n",
    "    data=data[(data.dropoff_longitude>-80)&(data.dropoff_longitude<-20)] # -77\n",
    "    data=data[(data.dropoff_latitude>10)&(data.dropoff_latitude<60)] # 40\n",
    "    data=data[(data.pickup_latitude>10)&(data.pickup_latitude<60)] # 40\n",
    "    data=data[ data.rate_code.isnull()==False]\n",
    "    #data=data[data['rate_code']!=np.nan]\n",
    "    \n",
    "    #\n",
    "    data['p_hour']=data.pickup_datetime.map(lambda x: x.hour)\n",
    "    data['p_dayofweek']=data.pickup_datetime.map(lambda x: x.dayofweek)\n",
    "    data.drop('pickup_datetime',axis=1,inplace=True)\n",
    "    \n",
    "    # round\n",
    "    data.pickup_latitude=data.pickup_latitude.apply(lambda x: np.round(x,2))#.apply(np.str)\n",
    "    data.pickup_longitude=data.pickup_longitude.apply(lambda x: np.round(x,2))\n",
    "    data.dropoff_latitude=data.dropoff_latitude.apply(lambda x: np.round(x,2))\n",
    "    data.dropoff_longitude=data.dropoff_longitude.apply(lambda x: np.round(x,2))\n",
    "    \n",
    "    return data"
   ]
  },
  {
   "cell_type": "code",
   "execution_count": null,
   "metadata": {},
   "outputs": [],
   "source": []
  },
  {
   "cell_type": "code",
   "execution_count": 4,
   "metadata": {},
   "outputs": [
    {
     "name": "stdout",
     "output_type": "stream",
     "text": [
      "<class 'pandas.core.frame.DataFrame'>\n",
      "RangeIndex: 2000 entries, 0 to 1999\n",
      "Data columns (total 11 columns):\n",
      "vendor_id            2000 non-null object\n",
      "pickup_datetime      2000 non-null datetime64[ns]\n",
      "pickup_longitude     2000 non-null float64\n",
      "pickup_latitude      2000 non-null float64\n",
      "dropoff_longitude    2000 non-null float64\n",
      "dropoff_latitude     2000 non-null float64\n",
      "rate_code            729 non-null float64\n",
      "passenger_count      2000 non-null int64\n",
      "trip_distance        2000 non-null float64\n",
      "fare_amount          2000 non-null float64\n",
      "tolls_amount         2000 non-null float64\n",
      "dtypes: datetime64[ns](1), float64(8), int64(1), object(1)\n",
      "memory usage: 172.0+ KB\n"
     ]
    }
   ],
   "source": [
    "r.info()"
   ]
  },
  {
   "cell_type": "code",
   "execution_count": 5,
   "metadata": {
    "scrolled": true
   },
   "outputs": [
    {
     "name": "stdout",
     "output_type": "stream",
     "text": [
      "Wall time: 30 ms\n"
     ]
    }
   ],
   "source": [
    "%%time\n",
    "q=r.pickup_datetime.apply(pd.to_datetime)\n",
    "#q=r.pickup_datetime.apply(lambda x:datetime.datetime.strptime(x,'%Y-%m-%d %H:%M:%S %Z'))"
   ]
  },
  {
   "cell_type": "code",
   "execution_count": 6,
   "metadata": {
    "scrolled": true
   },
   "outputs": [
    {
     "ename": "TypeError",
     "evalue": "strptime() argument 1 must be str, not Timestamp",
     "output_type": "error",
     "traceback": [
      "\u001b[1;31m---------------------------------------------------------------------------\u001b[0m",
      "\u001b[1;31mTypeError\u001b[0m                                 Traceback (most recent call last)",
      "\u001b[1;32m<timed exec>\u001b[0m in \u001b[0;36m<module>\u001b[1;34m()\u001b[0m\n",
      "\u001b[1;32m~\\Anaconda3\\lib\\site-packages\\pandas\\core\\series.py\u001b[0m in \u001b[0;36mapply\u001b[1;34m(self, func, convert_dtype, args, **kwds)\u001b[0m\n\u001b[0;32m   3190\u001b[0m             \u001b[1;32melse\u001b[0m\u001b[1;33m:\u001b[0m\u001b[1;33m\u001b[0m\u001b[0m\n\u001b[0;32m   3191\u001b[0m                 \u001b[0mvalues\u001b[0m \u001b[1;33m=\u001b[0m \u001b[0mself\u001b[0m\u001b[1;33m.\u001b[0m\u001b[0mastype\u001b[0m\u001b[1;33m(\u001b[0m\u001b[0mobject\u001b[0m\u001b[1;33m)\u001b[0m\u001b[1;33m.\u001b[0m\u001b[0mvalues\u001b[0m\u001b[1;33m\u001b[0m\u001b[0m\n\u001b[1;32m-> 3192\u001b[1;33m                 \u001b[0mmapped\u001b[0m \u001b[1;33m=\u001b[0m \u001b[0mlib\u001b[0m\u001b[1;33m.\u001b[0m\u001b[0mmap_infer\u001b[0m\u001b[1;33m(\u001b[0m\u001b[0mvalues\u001b[0m\u001b[1;33m,\u001b[0m \u001b[0mf\u001b[0m\u001b[1;33m,\u001b[0m \u001b[0mconvert\u001b[0m\u001b[1;33m=\u001b[0m\u001b[0mconvert_dtype\u001b[0m\u001b[1;33m)\u001b[0m\u001b[1;33m\u001b[0m\u001b[0m\n\u001b[0m\u001b[0;32m   3193\u001b[0m \u001b[1;33m\u001b[0m\u001b[0m\n\u001b[0;32m   3194\u001b[0m         \u001b[1;32mif\u001b[0m \u001b[0mlen\u001b[0m\u001b[1;33m(\u001b[0m\u001b[0mmapped\u001b[0m\u001b[1;33m)\u001b[0m \u001b[1;32mand\u001b[0m \u001b[0misinstance\u001b[0m\u001b[1;33m(\u001b[0m\u001b[0mmapped\u001b[0m\u001b[1;33m[\u001b[0m\u001b[1;36m0\u001b[0m\u001b[1;33m]\u001b[0m\u001b[1;33m,\u001b[0m \u001b[0mSeries\u001b[0m\u001b[1;33m)\u001b[0m\u001b[1;33m:\u001b[0m\u001b[1;33m\u001b[0m\u001b[0m\n",
      "\u001b[1;32mpandas/_libs/src\\inference.pyx\u001b[0m in \u001b[0;36mpandas._libs.lib.map_infer\u001b[1;34m()\u001b[0m\n",
      "\u001b[1;32m<timed exec>\u001b[0m in \u001b[0;36m<lambda>\u001b[1;34m(x)\u001b[0m\n",
      "\u001b[1;31mTypeError\u001b[0m: strptime() argument 1 must be str, not Timestamp"
     ]
    }
   ],
   "source": [
    "%%time\n",
    "q=r.pickup_datetime.apply(lambda x:datetime.datetime.strptime(x,'%Y-%m-%d %H:%M:%S %Z'))"
   ]
  },
  {
   "cell_type": "code",
   "execution_count": 7,
   "metadata": {},
   "outputs": [
    {
     "name": "stdout",
     "output_type": "stream",
     "text": [
      "<class 'pandas.core.frame.DataFrame'>\n",
      "RangeIndex: 100 entries, 0 to 99\n",
      "Data columns (total 11 columns):\n",
      "vendor_id            100 non-null object\n",
      "pickup_datetime      100 non-null datetime64[ns]\n",
      "pickup_longitude     100 non-null float64\n",
      "pickup_latitude      100 non-null float64\n",
      "dropoff_longitude    100 non-null float64\n",
      "dropoff_latitude     100 non-null float64\n",
      "rate_code            22 non-null float64\n",
      "passenger_count      100 non-null int64\n",
      "trip_distance        100 non-null float64\n",
      "fare_amount          100 non-null float64\n",
      "tolls_amount         100 non-null float64\n",
      "dtypes: datetime64[ns](1), float64(8), int64(1), object(1)\n",
      "memory usage: 8.7+ KB\n"
     ]
    }
   ],
   "source": [
    "data=readCsv('qwe000000000000.csv',nrows=100)\n",
    "data.info()\n",
    "#datetime.datetime.strptime('2010-03-04 00:35:16','%a %b %d %H:%M:%S %Y')\n",
    "#datetime.datetime.strptime('2010-03-04 00:35:16 UTC','%Y-%m-%d %H:%M:%S %Z')"
   ]
  },
  {
   "cell_type": "code",
   "execution_count": 8,
   "metadata": {
    "scrolled": true
   },
   "outputs": [
    {
     "data": {
      "text/html": [
       "<div>\n",
       "<style scoped>\n",
       "    .dataframe tbody tr th:only-of-type {\n",
       "        vertical-align: middle;\n",
       "    }\n",
       "\n",
       "    .dataframe tbody tr th {\n",
       "        vertical-align: top;\n",
       "    }\n",
       "\n",
       "    .dataframe thead th {\n",
       "        text-align: right;\n",
       "    }\n",
       "</style>\n",
       "<table border=\"1\" class=\"dataframe\">\n",
       "  <thead>\n",
       "    <tr style=\"text-align: right;\">\n",
       "      <th></th>\n",
       "      <th>vendor_id</th>\n",
       "      <th>pickup_longitude</th>\n",
       "      <th>pickup_latitude</th>\n",
       "      <th>dropoff_longitude</th>\n",
       "      <th>dropoff_latitude</th>\n",
       "      <th>rate_code</th>\n",
       "      <th>passenger_count</th>\n",
       "      <th>trip_distance</th>\n",
       "      <th>fare</th>\n",
       "      <th>p_hour</th>\n",
       "      <th>p_dayofweek</th>\n",
       "    </tr>\n",
       "  </thead>\n",
       "  <tbody>\n",
       "    <tr>\n",
       "      <th>11</th>\n",
       "      <td>CMT</td>\n",
       "      <td>-73.99</td>\n",
       "      <td>40.75</td>\n",
       "      <td>-74.13</td>\n",
       "      <td>40.65</td>\n",
       "      <td>5.0</td>\n",
       "      <td>1</td>\n",
       "      <td>12.8</td>\n",
       "      <td>75.45</td>\n",
       "      <td>0</td>\n",
       "      <td>5</td>\n",
       "    </tr>\n",
       "    <tr>\n",
       "      <th>17</th>\n",
       "      <td>CMT</td>\n",
       "      <td>-73.97</td>\n",
       "      <td>40.76</td>\n",
       "      <td>-74.05</td>\n",
       "      <td>40.79</td>\n",
       "      <td>5.0</td>\n",
       "      <td>2</td>\n",
       "      <td>7.1</td>\n",
       "      <td>9.75</td>\n",
       "      <td>23</td>\n",
       "      <td>1</td>\n",
       "    </tr>\n",
       "    <tr>\n",
       "      <th>18</th>\n",
       "      <td>CMT</td>\n",
       "      <td>-74.01</td>\n",
       "      <td>40.71</td>\n",
       "      <td>-74.03</td>\n",
       "      <td>40.74</td>\n",
       "      <td>5.0</td>\n",
       "      <td>2</td>\n",
       "      <td>4.5</td>\n",
       "      <td>9.75</td>\n",
       "      <td>22</td>\n",
       "      <td>4</td>\n",
       "    </tr>\n",
       "    <tr>\n",
       "      <th>19</th>\n",
       "      <td>CMT</td>\n",
       "      <td>-73.99</td>\n",
       "      <td>40.75</td>\n",
       "      <td>-74.04</td>\n",
       "      <td>40.75</td>\n",
       "      <td>5.0</td>\n",
       "      <td>1</td>\n",
       "      <td>4.1</td>\n",
       "      <td>9.75</td>\n",
       "      <td>21</td>\n",
       "      <td>1</td>\n",
       "    </tr>\n",
       "  </tbody>\n",
       "</table>\n",
       "</div>"
      ],
      "text/plain": [
       "   vendor_id  pickup_longitude  pickup_latitude  dropoff_longitude  \\\n",
       "11       CMT            -73.99            40.75             -74.13   \n",
       "17       CMT            -73.97            40.76             -74.05   \n",
       "18       CMT            -74.01            40.71             -74.03   \n",
       "19       CMT            -73.99            40.75             -74.04   \n",
       "\n",
       "    dropoff_latitude  rate_code  passenger_count  trip_distance   fare  \\\n",
       "11             40.65        5.0                1           12.8  75.45   \n",
       "17             40.79        5.0                2            7.1   9.75   \n",
       "18             40.74        5.0                2            4.5   9.75   \n",
       "19             40.75        5.0                1            4.1   9.75   \n",
       "\n",
       "    p_hour  p_dayofweek  \n",
       "11       0            5  \n",
       "17      23            1  \n",
       "18      22            4  \n",
       "19      21            1  "
      ]
     },
     "execution_count": 8,
     "metadata": {},
     "output_type": "execute_result"
    }
   ],
   "source": [
    "\n",
    "data2=create_features(data)\n",
    "data2\n"
   ]
  },
  {
   "cell_type": "code",
   "execution_count": null,
   "metadata": {},
   "outputs": [],
   "source": []
  },
  {
   "cell_type": "code",
   "execution_count": null,
   "metadata": {},
   "outputs": [],
   "source": []
  },
  {
   "cell_type": "code",
   "execution_count": 9,
   "metadata": {},
   "outputs": [
    {
     "data": {
      "text/plain": [
       "[<matplotlib.lines.Line2D at 0x30b9524908>]"
      ]
     },
     "execution_count": 9,
     "metadata": {},
     "output_type": "execute_result"
    },
    {
     "data": {
      "image/png": "[encoded data removed]",
      "text/plain": [
       "<Figure size 432x288 with 1 Axes>"
      ]
     },
     "metadata": {},
     "output_type": "display_data"
    }
   ],
   "source": [
    "\n",
    "plt.plot(data.pickup_datetime)\n",
    "#[q for q in data.pickup_datetime if q<pd.datetime(1920,10,10) ]\n",
    "\n",
    "#data3=data2[(data2.pickup_longitude>-21)]\n",
    "\n",
    "#dist(x1,y1,x2,y2):\n",
    "#[dist(x.pickup_longitude,x.dropoff_longitude,1,1) for x in data]\n",
    "#[x for x in data2.values]"
   ]
  },
  {
   "cell_type": "code",
   "execution_count": 10,
   "metadata": {},
   "outputs": [
    {
     "data": {
      "text/html": [
       "<div>\n",
       "<style scoped>\n",
       "    .dataframe tbody tr th:only-of-type {\n",
       "        vertical-align: middle;\n",
       "    }\n",
       "\n",
       "    .dataframe tbody tr th {\n",
       "        vertical-align: top;\n",
       "    }\n",
       "\n",
       "    .dataframe thead th {\n",
       "        text-align: right;\n",
       "    }\n",
       "</style>\n",
       "<table border=\"1\" class=\"dataframe\">\n",
       "  <thead>\n",
       "    <tr style=\"text-align: right;\">\n",
       "      <th></th>\n",
       "      <th>pickup_longitude</th>\n",
       "      <th>pickup_latitude</th>\n",
       "      <th>dropoff_longitude</th>\n",
       "      <th>dropoff_latitude</th>\n",
       "      <th>rate_code</th>\n",
       "      <th>passenger_count</th>\n",
       "      <th>trip_distance</th>\n",
       "      <th>fare</th>\n",
       "      <th>p_hour</th>\n",
       "      <th>p_dayofweek</th>\n",
       "    </tr>\n",
       "  </thead>\n",
       "  <tbody>\n",
       "    <tr>\n",
       "      <th>count</th>\n",
       "      <td>4.00000</td>\n",
       "      <td>4.000000</td>\n",
       "      <td>4.000000</td>\n",
       "      <td>4.00000</td>\n",
       "      <td>4.0</td>\n",
       "      <td>4.00000</td>\n",
       "      <td>4.000000</td>\n",
       "      <td>4.000</td>\n",
       "      <td>4.000000</td>\n",
       "      <td>4.000000</td>\n",
       "    </tr>\n",
       "    <tr>\n",
       "      <th>mean</th>\n",
       "      <td>-73.99000</td>\n",
       "      <td>40.742500</td>\n",
       "      <td>-74.062500</td>\n",
       "      <td>40.73250</td>\n",
       "      <td>5.0</td>\n",
       "      <td>1.50000</td>\n",
       "      <td>7.125000</td>\n",
       "      <td>26.175</td>\n",
       "      <td>16.500000</td>\n",
       "      <td>2.750000</td>\n",
       "    </tr>\n",
       "    <tr>\n",
       "      <th>std</th>\n",
       "      <td>0.01633</td>\n",
       "      <td>0.022174</td>\n",
       "      <td>0.045735</td>\n",
       "      <td>0.05909</td>\n",
       "      <td>0.0</td>\n",
       "      <td>0.57735</td>\n",
       "      <td>4.010299</td>\n",
       "      <td>32.850</td>\n",
       "      <td>11.030261</td>\n",
       "      <td>2.061553</td>\n",
       "    </tr>\n",
       "    <tr>\n",
       "      <th>min</th>\n",
       "      <td>-74.01000</td>\n",
       "      <td>40.710000</td>\n",
       "      <td>-74.130000</td>\n",
       "      <td>40.65000</td>\n",
       "      <td>5.0</td>\n",
       "      <td>1.00000</td>\n",
       "      <td>4.100000</td>\n",
       "      <td>9.750</td>\n",
       "      <td>0.000000</td>\n",
       "      <td>1.000000</td>\n",
       "    </tr>\n",
       "    <tr>\n",
       "      <th>25%</th>\n",
       "      <td>-73.99500</td>\n",
       "      <td>40.740000</td>\n",
       "      <td>-74.070000</td>\n",
       "      <td>40.71750</td>\n",
       "      <td>5.0</td>\n",
       "      <td>1.00000</td>\n",
       "      <td>4.400000</td>\n",
       "      <td>9.750</td>\n",
       "      <td>15.750000</td>\n",
       "      <td>1.000000</td>\n",
       "    </tr>\n",
       "    <tr>\n",
       "      <th>50%</th>\n",
       "      <td>-73.99000</td>\n",
       "      <td>40.750000</td>\n",
       "      <td>-74.045000</td>\n",
       "      <td>40.74500</td>\n",
       "      <td>5.0</td>\n",
       "      <td>1.50000</td>\n",
       "      <td>5.800000</td>\n",
       "      <td>9.750</td>\n",
       "      <td>21.500000</td>\n",
       "      <td>2.500000</td>\n",
       "    </tr>\n",
       "    <tr>\n",
       "      <th>75%</th>\n",
       "      <td>-73.98500</td>\n",
       "      <td>40.752500</td>\n",
       "      <td>-74.037500</td>\n",
       "      <td>40.76000</td>\n",
       "      <td>5.0</td>\n",
       "      <td>2.00000</td>\n",
       "      <td>8.525000</td>\n",
       "      <td>26.175</td>\n",
       "      <td>22.250000</td>\n",
       "      <td>4.250000</td>\n",
       "    </tr>\n",
       "    <tr>\n",
       "      <th>max</th>\n",
       "      <td>-73.97000</td>\n",
       "      <td>40.760000</td>\n",
       "      <td>-74.030000</td>\n",
       "      <td>40.79000</td>\n",
       "      <td>5.0</td>\n",
       "      <td>2.00000</td>\n",
       "      <td>12.800000</td>\n",
       "      <td>75.450</td>\n",
       "      <td>23.000000</td>\n",
       "      <td>5.000000</td>\n",
       "    </tr>\n",
       "  </tbody>\n",
       "</table>\n",
       "</div>"
      ],
      "text/plain": [
       "       pickup_longitude  pickup_latitude  dropoff_longitude  dropoff_latitude  \\\n",
       "count           4.00000         4.000000           4.000000           4.00000   \n",
       "mean          -73.99000        40.742500         -74.062500          40.73250   \n",
       "std             0.01633         0.022174           0.045735           0.05909   \n",
       "min           -74.01000        40.710000         -74.130000          40.65000   \n",
       "25%           -73.99500        40.740000         -74.070000          40.71750   \n",
       "50%           -73.99000        40.750000         -74.045000          40.74500   \n",
       "75%           -73.98500        40.752500         -74.037500          40.76000   \n",
       "max           -73.97000        40.760000         -74.030000          40.79000   \n",
       "\n",
       "       rate_code  passenger_count  trip_distance    fare     p_hour  \\\n",
       "count        4.0          4.00000       4.000000   4.000   4.000000   \n",
       "mean         5.0          1.50000       7.125000  26.175  16.500000   \n",
       "std          0.0          0.57735       4.010299  32.850  11.030261   \n",
       "min          5.0          1.00000       4.100000   9.750   0.000000   \n",
       "25%          5.0          1.00000       4.400000   9.750  15.750000   \n",
       "50%          5.0          1.50000       5.800000   9.750  21.500000   \n",
       "75%          5.0          2.00000       8.525000  26.175  22.250000   \n",
       "max          5.0          2.00000      12.800000  75.450  23.000000   \n",
       "\n",
       "       p_dayofweek  \n",
       "count     4.000000  \n",
       "mean      2.750000  \n",
       "std       2.061553  \n",
       "min       1.000000  \n",
       "25%       1.000000  \n",
       "50%       2.500000  \n",
       "75%       4.250000  \n",
       "max       5.000000  "
      ]
     },
     "execution_count": 10,
     "metadata": {},
     "output_type": "execute_result"
    }
   ],
   "source": [
    "data2.describe()\n"
   ]
  },
  {
   "cell_type": "code",
   "execution_count": 11,
   "metadata": {},
   "outputs": [],
   "source": [
    "# dists=[dist(x[1],x[2],x[3],x[4]) for x in data2.values]\n",
    "# plt.plot(dists)\n",
    "# plt.plot(data2.trip_distance,color='red')\n",
    "# dd=pd.DataFrame(dists)"
   ]
  },
  {
   "cell_type": "code",
   "execution_count": null,
   "metadata": {
    "scrolled": true
   },
   "outputs": [],
   "source": []
  }
 ],
 "metadata": {
  "kernelspec": {
   "display_name": "Python 3",
   "language": "python",
   "name": "python3"
  },
  "language_info": {
   "codemirror_mode": {
    "name": "ipython",
    "version": 3
   },
   "file_extension": ".py",
   "mimetype": "text/x-python",
   "name": "python",
   "nbconvert_exporter": "python",
   "pygments_lexer": "ipython3",
   "version": "3.6.5"
  }
 },
 "nbformat": 4,
 "nbformat_minor": 2
}
