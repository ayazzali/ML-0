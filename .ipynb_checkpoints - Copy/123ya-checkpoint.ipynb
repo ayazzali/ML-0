{
 "cells": [
  {
   "cell_type": "code",
   "execution_count": 104,
   "metadata": {},
   "outputs": [],
   "source": [
    "import pandas as pd\n",
    "import numpy as np\n",
    "import matplotlib.pyplot as plt\n",
    "s= pd.Series(9)\n",
    "dates= pd.date_range('20130612',periods=6 )\n",
    "dates\n",
    "\n",
    "import catboost\n",
    "import numpy as np\n",
    "from catboost import CatBoostRegressor,Pool,CatBoostClassifier"
   ]
  },
  {
   "cell_type": "code",
   "execution_count": 109,
   "metadata": {},
   "outputs": [
    {
     "name": "stdout",
     "output_type": "stream",
     "text": [
      "('opening qwe000000000000.csv',)\n",
      "('opened',)\n",
      "([{0, 'vendor_id'}, {1, 'pickup_datetime'}, {2, 'dropoff_datetime'}, {3, 'pickup_longitude'}, {4, 'pickup_latitude'}, {'dropoff_longitude', 5}, {'dropoff_latitude', 6}, {'rate_code', 7}, {8, 'passenger_count'}, {9, 'trip_distance'}, {10, 'payment_type'}, {'extra', 11}, {'mta_tax', 12}, {'imp_surcharge', 13}, {'tip_amount', 14}, {'tolls_amount', 15}, {16, 'total_amount'}, {17, 'store_and_fwd_flag'}],)\n",
      "('break len=', 1001)\n",
      "('длина:', 1001, ' тип', <class 'list'>)\n"
     ]
    },
    {
     "data": {
      "text/plain": [
       "['CMT',\n",
       " '2010-03-04 00:35:16 UTC',\n",
       " '2010-03-04 00:35:47 UTC',\n",
       " '-74.035201',\n",
       " '40.721548',\n",
       " '-74.035201',\n",
       " '40.721548',\n",
       " '1',\n",
       " '1',\n",
       " '0',\n",
       " 'Cas',\n",
       " '0',\n",
       " '0',\n",
       " '',\n",
       " '0',\n",
       " '0',\n",
       " '0',\n",
       " '0']"
      ]
     },
     "execution_count": 109,
     "metadata": {},
     "output_type": "execute_result"
    }
   ],
   "source": [
    "def l(*t):\n",
    "    print(t)\n",
    "    \n",
    "def exportCsv(path,count):\n",
    "    l('opening '+path)\n",
    "    r=open(path, 'r')\n",
    "    l('opened')\n",
    "    #i=-1\n",
    "    for i,line in enumerate(r):\n",
    "        colls=line.replace('\\n','').split(',')\n",
    "     #   i+=1\n",
    "        #print(line)\n",
    "        if(i==0):\n",
    "            l([{indx,col} for indx,col in enumerate(colls)])\n",
    "            continue\n",
    "        yield colls#[x for indx,x in enumerate(colls) if indx!=11]\n",
    "        \n",
    "        if(i>count):\n",
    "            l('break len=',i)\n",
    "            break\n",
    "\n",
    "from glob import glob\n",
    "def combineScvs(pathMatch,n):\n",
    "    for fle in glob(pathMatch):\n",
    "        l(fle)\n",
    "        l(type(fle))\n",
    "        yield exportCsv(fle,n)\n",
    "    # f = np.load.. \n",
    "csvYield= exportCsv('qwe000000000000.csv',1000)\n",
    "data=[line for line in csvYield]\n",
    "l('длина:',len(data),' тип',type(data))\n",
    "data[0]\n",
    "\n",
    "#combineScvs('qwe0000000000*[0-9].csv',100)"
   ]
  },
  {
   "cell_type": "code",
   "execution_count": 95,
   "metadata": {},
   "outputs": [
    {
     "data": {
      "text/plain": [
       "[1, 2, 3, 4]"
      ]
     },
     "execution_count": 95,
     "metadata": {},
     "output_type": "execute_result"
    }
   ],
   "source": [
    "for line in data:\n",
    "    if(len(line)!=len(data[1])):\n",
    "        l(line)\n",
    "len(data[1])\n"
   ]
  },
  {
   "cell_type": "code",
   "execution_count": 91,
   "metadata": {},
   "outputs": [],
   "source": [
    "datapd=pd.Series(data)\n",
    "pool=Pool(datapd,cat_features=[0, 1, 2, 3, 4, 5,10,18])\n",
    "model=CatBoostClassifier()\n",
    "model.fit(\n",
    "\n",
    "    plot=True\n",
    ")"
   ]
  }
 ],
 "metadata": {
  "kernelspec": {
   "display_name": "Python 3",
   "language": "python",
   "name": "python3"
  },
  "language_info": {
   "codemirror_mode": {
    "name": "ipython",
    "version": 3
   },
   "file_extension": ".py",
   "mimetype": "text/x-python",
   "name": "python",
   "nbconvert_exporter": "python",
   "pygments_lexer": "ipython3",
   "version": "3.6.5"
  }
 },
 "nbformat": 4,
 "nbformat_minor": 2
}
